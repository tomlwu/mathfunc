{
 "cells": [
  {
   "cell_type": "code",
   "execution_count": 21,
   "id": "b53167d6",
   "metadata": {},
   "outputs": [],
   "source": [
    "import numpy as np\n",
    "import os\n",
    "import time\n",
    "import torch\n",
    "from torch import nn\n",
    "from torch.utils.data import TensorDataset, DataLoader\n",
    "%matplotlib widget\n",
    "import matplotlib.pyplot as plt\n",
    "import scipy.io\n",
    "from utilities import *"
   ]
  },
  {
   "cell_type": "code",
   "execution_count": 22,
   "id": "59b21d3f",
   "metadata": {},
   "outputs": [
    {
     "name": "stdout",
     "output_type": "stream",
     "text": [
      "Using cpu device\n"
     ]
    }
   ],
   "source": [
    "device = (\n",
    "    \"cuda\"\n",
    "    if torch.cuda.is_available()\n",
    "    else \"mps\"\n",
    "    if torch.backends.mps.is_available()\n",
    "    else \"cpu\"\n",
    ")\n",
    "print(f\"Using {device} device\")"
   ]
  },
  {
   "cell_type": "markdown",
   "id": "5b73d4da",
   "metadata": {},
   "source": [
    "Import data from Matlab"
   ]
  },
  {
   "cell_type": "code",
   "execution_count": 23,
   "id": "821ead4d",
   "metadata": {},
   "outputs": [
    {
     "name": "stdout",
     "output_type": "stream",
     "text": [
      "shape of x_train: (5000, 12)\n",
      "shape of y_train: (5000, 42)\n",
      "shape of x_test: (5000, 12)\n",
      "shape of y_test: (5000, 42)\n",
      "X[0] Max, Min pre normalization: 1.01, -1.11\n",
      "tensor([-0.1418, -0.3170, -0.0433, -0.2664,  0.3101,  0.3541, -0.3976, -0.3660,\n",
      "         0.0215,  0.2519, -0.2497,  0.4083])\n",
      "X[0] Max, Min post normalization: 0.49, -0.53\n"
     ]
    }
   ],
   "source": [
    "mat = scipy.io.loadmat('simple_mlp_data_10k.mat')\n",
    "A_eq = mat.get('A_eq')\n",
    "b_eq = mat.get('b_eq')\n",
    "A_ieq = mat.get('A_ieq')\n",
    "b_ieq = mat.get('b_ieq')\n",
    "N = mat.get('N')\n",
    "P = mat.get('P')\n",
    "R0_vec = mat.get('R0_vec')\n",
    "PN = torch.tensor(P@N).float()\n",
    "Pr0 = torch.tensor(P@R0_vec).float()\n",
    "\n",
    "# some parameter for objective function\n",
    "#A_ee = torch.tensor(mat.get('A_ee')).float()\n",
    "#b_ee = torch.tensor(mat.get('b_ee')).float()\n",
    "\n",
    "# separate train and test sets\n",
    "X_train = mat.get('ee_poses')[:,0:5000].T\n",
    "R_vec_allcol = mat.get('R_configs')\n",
    "R_vec_2col = P@R_vec_allcol\n",
    "y_train = R_vec_2col[:,0:5000].T\n",
    "X_test = mat.get('ee_poses')[:,5000:].T\n",
    "y_test = R_vec_2col[:,5000:].T\n",
    "m = X_train.shape[1]\n",
    "m_vr = np.linalg.matrix_rank(N)\n",
    "print(f\"shape of x_train: {X_train.shape}\")\n",
    "print(f\"shape of y_train: {y_train.shape}\")\n",
    "print(f\"shape of x_test: {X_test.shape}\")\n",
    "print(f\"shape of y_test: {y_test.shape}\")\n",
    "print(f\"X[0] Max, Min pre normalization: {np.max(X_train[:,0]):0.2f}, {np.min(X_train[:,0]):0.2f}\")\n",
    "\n",
    "tensor_x_train = torch.nn.functional.normalize(torch.Tensor(X_train)) # transform to torch tensor\n",
    "tensor_y_train = torch.nn.functional.normalize(torch.Tensor(y_train))\n",
    "train_dataset = TensorDataset(tensor_x_train,tensor_y_train) # create your datset\n",
    "train_dataloader = DataLoader(train_dataset) # create your dataloader\n",
    "\n",
    "tensor_x_test = torch.Tensor(X_test) # transform to torch tensor\n",
    "tensor_y_test = torch.Tensor(y_test)\n",
    "test_dataset = TensorDataset(tensor_x_test,tensor_y_test) # create your datset\n",
    "test_dataloader = DataLoader(test_dataset) # create your dataloader\n",
    "\n",
    "print(tensor_x_train[1,:])\n",
    "print(f\"X[0] Max, Min post normalization: {np.max(tensor_x_train.numpy()[:,0]):0.2f}, {np.min(tensor_x_train.numpy()[:,0]):0.2f}\")"
   ]
  },
  {
   "cell_type": "markdown",
   "id": "ff841929",
   "metadata": {},
   "source": [
    "Build Nueral-network"
   ]
  },
  {
   "cell_type": "code",
   "execution_count": 24,
   "id": "1c252092",
   "metadata": {},
   "outputs": [],
   "source": [
    "class NeuralNetwork(nn.Module):\n",
    "    def __init__(self):\n",
    "        super().__init__()\n",
    "        self.flatten = nn.Flatten()\n",
    "        self.PN = PN\n",
    "        self.linear_relu_stack = nn.Sequential(\n",
    "            nn.Linear(12, 64),\n",
    "            nn.ReLU(),\n",
    "            nn.Linear(64, 64),\n",
    "            nn.ReLU(),\n",
    "            nn.Linear(64, 64),\n",
    "            nn.ReLU(),\n",
    "            nn.Linear(64, m_vr),\n",
    "        )\n",
    "\n",
    "    def forward(self, x):\n",
    "        x = self.flatten(x)\n",
    "        v_r = self.linear_relu_stack(x)\n",
    "        #print(torch.transpose(v_r, 0, 1))\n",
    "        logits = (torch.matmul(self.PN, torch.transpose(v_r, 0, 1))+Pr0).T\n",
    "        return logits"
   ]
  },
  {
   "cell_type": "code",
   "execution_count": 25,
   "id": "5c09ab45",
   "metadata": {},
   "outputs": [
    {
     "name": "stdout",
     "output_type": "stream",
     "text": [
      "NeuralNetwork(\n",
      "  (flatten): Flatten(start_dim=1, end_dim=-1)\n",
      "  (linear_relu_stack): Sequential(\n",
      "    (0): Linear(in_features=12, out_features=64, bias=True)\n",
      "    (1): ReLU()\n",
      "    (2): Linear(in_features=64, out_features=64, bias=True)\n",
      "    (3): ReLU()\n",
      "    (4): Linear(in_features=64, out_features=64, bias=True)\n",
      "    (5): ReLU()\n",
      "    (6): Linear(in_features=64, out_features=26, bias=True)\n",
      "  )\n",
      ")\n"
     ]
    }
   ],
   "source": [
    "model = NeuralNetwork().to(device)\n",
    "print(model)"
   ]
  },
  {
   "cell_type": "code",
   "execution_count": 26,
   "id": "d51652a6",
   "metadata": {},
   "outputs": [],
   "source": [
    "loss_fn = nn.MSELoss()\n",
    "optimizer = torch.optim.Adam(model.parameters(), lr=0.0001)"
   ]
  },
  {
   "cell_type": "code",
   "execution_count": 27,
   "id": "0b739c96",
   "metadata": {},
   "outputs": [],
   "source": [
    "def train(dataloader, model, loss_fn, optimizer):\n",
    "    size = len(dataloader.dataset)\n",
    "    model.train()\n",
    "    for batch, (X, y) in enumerate(dataloader):\n",
    "        X, y = X.to(device), y.to(device)\n",
    "\n",
    "        # Compute prediction error\n",
    "        pred = model(X)\n",
    "        loss = loss_fn(pred, y)\n",
    "\n",
    "        # Backpropagation\n",
    "        loss.backward()\n",
    "        optimizer.step()\n",
    "        optimizer.zero_grad()\n",
    "\n",
    "        if batch % 100 == 0:\n",
    "            loss, current = loss.item(), (batch + 1) * len(X)\n",
    "            #print(f\"loss: {loss:>7f}  [{current:>5d}/{size:>5d}]\")\n",
    "def test(dataloader, model, loss_fn):\n",
    "    size = len(dataloader.dataset)\n",
    "    num_batches = len(dataloader)\n",
    "    model.eval()\n",
    "    test_loss, correct = 0, 0\n",
    "    with torch.no_grad():\n",
    "        for X, y in dataloader:\n",
    "            X, y = X.to(device), y.to(device)\n",
    "            pred = model(X)\n",
    "            test_loss += loss_fn(pred, y).item()\n",
    "            correct += (pred.argmax(1) == y).type(torch.float).sum().item()\n",
    "    test_loss /= num_batches\n",
    "    correct /= size\n",
    "    print(f\"Test Error: \\n Accuracy: {(100*correct):>0.1f}%, Avg loss: {test_loss:>8f} \\n\")"
   ]
  },
  {
   "cell_type": "code",
   "execution_count": 31,
   "id": "b4baae40",
   "metadata": {},
   "outputs": [
    {
     "name": "stdout",
     "output_type": "stream",
     "text": [
      "Epoch 1\n",
      "-------------------------------\n",
      "--- 8.19 seconds ---\n",
      "Test Error: \n",
      " Accuracy: 0.0%, Avg loss: 0.425179 \n",
      "\n",
      "Epoch 2\n",
      "-------------------------------\n",
      "--- 7.89 seconds ---\n",
      "Test Error: \n",
      " Accuracy: 0.0%, Avg loss: 0.425058 \n",
      "\n",
      "Epoch 3\n",
      "-------------------------------\n",
      "--- 8.06 seconds ---\n",
      "Test Error: \n",
      " Accuracy: 0.0%, Avg loss: 0.424940 \n",
      "\n",
      "Epoch 4\n",
      "-------------------------------\n",
      "--- 8.77 seconds ---\n",
      "Test Error: \n",
      " Accuracy: 0.0%, Avg loss: 0.424814 \n",
      "\n",
      "Epoch 5\n",
      "-------------------------------\n",
      "--- 8.28 seconds ---\n",
      "Test Error: \n",
      " Accuracy: 0.0%, Avg loss: 0.424728 \n",
      "\n",
      "Done!\n"
     ]
    }
   ],
   "source": [
    "epochs = 5\n",
    "for t in range(epochs):\n",
    "    print(f\"Epoch {t+1}\\n-------------------------------\")\n",
    "    start_time = time.time()\n",
    "    train(train_dataloader, model, loss_fn, optimizer)\n",
    "    print(\"--- %.2f seconds ---\" % (time.time() - start_time))\n",
    "    test(test_dataloader, model, loss_fn)\n",
    "print(\"Done!\")"
   ]
  },
  {
   "cell_type": "code",
   "execution_count": null,
   "id": "3ed496f8",
   "metadata": {},
   "outputs": [],
   "source": []
  }
 ],
 "metadata": {
  "kernelspec": {
   "display_name": "Python 3 (ipykernel)",
   "language": "python",
   "name": "python3"
  },
  "language_info": {
   "codemirror_mode": {
    "name": "ipython",
    "version": 3
   },
   "file_extension": ".py",
   "mimetype": "text/x-python",
   "name": "python",
   "nbconvert_exporter": "python",
   "pygments_lexer": "ipython3",
   "version": "3.10.9"
  }
 },
 "nbformat": 4,
 "nbformat_minor": 5
}
